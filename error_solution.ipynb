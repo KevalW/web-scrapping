{
 "cells": [
  {
   "cell_type": "code",
   "execution_count": 10,
   "metadata": {},
   "outputs": [],
   "source": [
    "from selenium import webdriver\n",
    "from selenium.webdriver.chrome.service import Service\n",
    "from webdriver_manager.chrome import ChromeDriverManager\n",
    "from selenium.webdriver.common.keys import Keys\n",
    "from selenium.webdriver.common.by import By\n",
    "import bs4\n",
    "import time"
   ]
  },
  {
   "cell_type": "code",
   "execution_count": 3,
   "metadata": {},
   "outputs": [],
   "source": [
    "# # xpath for title\n",
    "# //*[@id=\"container\"]/div/div[3]/div[1]/div[2]/div[2]/div/div/div/a/div[2]/div[1]/div[1]\n",
    "# //*[@id=\"container\"]/div/div[3]/div[1]/div[2]/div[3]/div/div/div/a/div[2]/div[1]/div[1]\n",
    "\n",
    "# # xPath for price\n",
    "# //*[@id=\"container\"]/div/div[3]/div[1]/div[2]/div[2]/div/div/div/a/div[2]/div[2]/div[1]/div[1]/div[1]\n",
    "# //*[@id=\"container\"]/div/div[3]/div[1]/div[2]/div[3]/div/div/div/a/div[2]/div[2]/div[1]/div[1]/div[1]\n",
    "\n",
    "# # xPath of rating\n",
    "# //*[@id=\"container\"]/div/div[3]/div[1]/div[2]/div[3]/div/div/div/a/div[2]/div[1]/div[2]\n",
    "# //*[@id=\"container\"]/div/div[3]/div[1]/div[2]/div[3]/div/div/div/a/div[2]/div[1]/div[2]"
   ]
  },
  {
   "cell_type": "code",
   "execution_count": 4,
   "metadata": {},
   "outputs": [],
   "source": [
    "# //*[@id=\"container\"]/div/div[3]/div[1]/div[2]/div[2]/div/div[1]/h1/span\n",
    "\n",
    "# //*[@id=\"container\"]/div/div[3]/div[1]/div[2]/div[2]/div/div[4]/div[1]/div/div[1]\n",
    "\n",
    "# //*[@id=\"container\"]/div/div[3]/div[1]/div[2]/div[8]/div[6]/div/div[2]/div[1]/div/div[1]/div/div[1]/div/div[1]\n",
    "\n",
    "# https://www.selenium.dev/documentation/webdriver/interactions/windows/"
   ]
  },
  {
   "cell_type": "code",
   "execution_count": 19,
   "metadata": {},
   "outputs": [],
   "source": [
    "# # import csv\n",
    "\n",
    "# # def csvFile(name, price, rate, url):\n",
    "# #     file = open('mydata.csv', 'w')\n",
    "# #     file = csv.writer(file)\n",
    "# #     file.writerow([name, price, rate, url])\n",
    "    \n",
    "# #     print('records inserted successfully !')\n",
    "# import xlsxwriter\n",
    "# book = xlsxwriter.Workbook('Example2.xlsx') \n",
    "# sheet = workbook.add_worksheet() \n",
    "# def excelfun(name, price, rate, url, rowNum):       \n",
    "#     sheet.write(rowNum, 0, name)\n",
    "#     sheet.write(rowNum, 1, price)\n",
    "#     sheet.write(rowNum, 2, rate)\n",
    "#     sheet.write(rowNum, 3, url)    \n"
   ]
  },
  {
   "cell_type": "code",
   "execution_count": 20,
   "metadata": {},
   "outputs": [],
   "source": [
    "from openpyxl import Workbook\n",
    "workbook = Workbook()\n",
    "worksheet = workbook.active\n",
    "def csvFile(name, price, rate, url, numRow):\n",
    "    worksheet.cell(row= numRow, column=1, value= name)\n",
    "    worksheet.cell(row= numRow, column=2, value= price)\n",
    "    worksheet.cell(row= numRow, column=3, value= rate)\n",
    "    worksheet.cell(row= numRow, column=4, value= url)\n",
    "    workbook.save('data.xlsx')"
   ]
  },
  {
   "cell_type": "code",
   "execution_count": null,
   "metadata": {},
   "outputs": [],
   "source": []
  },
  {
   "cell_type": "code",
   "execution_count": 22,
   "metadata": {},
   "outputs": [],
   "source": [
    "driver = webdriver.Chrome(service=Service(ChromeDriverManager().install()))\n",
    "\n",
    "driver.get(\"https://www.flipkart.com/search?q=mobiles&as=on&as-show=on&otracker=AS_Query_TrendingAutoSuggest_1_0_na_na_na&otracker1=AS_Query_TrendingAutoSuggest_1_0_na_na_na&as-pos=1&as-type=TRENDING&suggestionId=mobiles&requestId=23a3debe-3799-4647-b033-e5aec45e5b45\")\n",
    "driver.execute_script(\"window.scrollTo(0, 0);\")\n",
    "\n",
    "title_xPath = \"\"\"//*[@id=\"container\"]/div/div[3]/div[1]/div[2]/div[2]/div/div[1]/h1/span\"\"\"\n",
    "\n",
    "price_xPath = \"\"\"//*[@id=\"container\"]/div/div[3]/div[1]/div[2]/div[2]/div/div[4]/div[1]/div/div[1]\"\"\"\n",
    "alternative_price_xPath = \"\"\"//*[@id=\"container\"]/div/div[3]/div[1]/div[2]/div[2]/div/div[3]/div[1]/div/div[1]\"\"\"\n",
    "\n",
    "rating_xPath = \"\"\"//*[@id=\"container\"]/div/div[3]/div[1]/div[2]/div[2]/div/div[2]/div/div\"\"\"\n",
    "row = 1\n",
    "for i in range(2,24):\n",
    "    linkPath = f\"\"\"//*[@id=\"container\"]/div/div[3]/div[1]/div[2]/div[{i}]/div/div/div/a \"\"\"\n",
    "    hrefvalue = driver.find_element(By.XPATH, linkPath)\n",
    "    hrefOfMobile = hrefvalue.get_attribute('href')\n",
    "    parent = driver.current_window_handle\n",
    "    driver.find_element(By.XPATH,linkPath).click()\n",
    "    time.sleep(2)\n",
    "    chwd = driver.window_handles\n",
    "    for w in chwd:\n",
    "        if(w!=parent):\n",
    "            driver.switch_to.window(w)\n",
    "            break\n",
    "    \n",
    "    textTitleElement = driver.find_element(By.XPATH, title_xPath).text\n",
    "    try:\n",
    "        textPriceElement = driver.find_element(By.XPATH, price_xPath).text\n",
    "    except:\n",
    "        textPriceElement = driver.find_element(By.XPATH, alternative_price_xPath).text\n",
    "        \n",
    "    textRatingElement = driver.find_element(By.XPATH, rating_xPath).text\n",
    "    \n",
    "    csvFile(textTitleElement, textPriceElement, textRatingElement, hrefOfMobile, row)\n",
    "    row += 1\n",
    "    \n",
    "    driver.close()\n",
    "    time.sleep(2)\n",
    "    driver.switch_to.window(parent)\n",
    "    time.sleep(2)"
   ]
  },
  {
   "attachments": {},
   "cell_type": "markdown",
   "metadata": {},
   "source": [
    "title\n",
    "price\n",
    "comment\n",
    "ratings\n",
    "link\n",
    "\n",
    "//*[@id=\"container\"]/div/div[3]/div[1]/div[2]/div[2]\n",
    "//*[@id=\"container\"]/div/div[3]/div[1]/div[2]/div[3]"
   ]
  },
  {
   "cell_type": "code",
   "execution_count": 15,
   "metadata": {},
   "outputs": [],
   "source": [
    "import pandas as pd\n",
    "\n",
    "read_file = pd.read_csv (r'H:\\Personal\\lavkush ke sath webscrapping\\mydata.csv')\n",
    "read_file.to_excel (r'H:\\Personal\\lavkush ke sath webscrapping\\mydataaa.xlsx', index = None, header=True)"
   ]
  },
  {
   "cell_type": "code",
   "execution_count": null,
   "metadata": {},
   "outputs": [],
   "source": []
  }
 ],
 "metadata": {
  "kernelspec": {
   "display_name": "Python 3.9.4 64-bit (system)",
   "language": "python",
   "name": "python3"
  },
  "language_info": {
   "codemirror_mode": {
    "name": "ipython",
    "version": 3
   },
   "file_extension": ".py",
   "mimetype": "text/x-python",
   "name": "python",
   "nbconvert_exporter": "python",
   "pygments_lexer": "ipython3",
   "version": "3.10.5"
  },
  "orig_nbformat": 4,
  "vscode": {
   "interpreter": {
    "hash": "bb1aa758704637c20b67d4ab0cb2d6e32ead37fcb01fa8718c3d676d05a142ae"
   }
  }
 },
 "nbformat": 4,
 "nbformat_minor": 2
}
